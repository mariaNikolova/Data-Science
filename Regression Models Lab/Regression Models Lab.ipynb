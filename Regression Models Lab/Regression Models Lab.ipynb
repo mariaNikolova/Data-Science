{
 "cells": [
  {
   "cell_type": "code",
   "execution_count": 1,
   "metadata": {
    "collapsed": true
   },
   "outputs": [],
   "source": [
    "%matplotlib inline"
   ]
  },
  {
   "cell_type": "code",
   "execution_count": 2,
   "metadata": {
    "collapsed": true
   },
   "outputs": [],
   "source": [
    "import numpy as np\n",
    "import pandas as pd\n",
    "import matplotlib.pyplot as plt\n",
    "\n",
    "from nose.tools import *\n",
    "\n",
    "from sklearn.linear_model import LogisticRegression\n",
    "import math\n",
    "# Write your imports here"
   ]
  },
  {
   "cell_type": "markdown",
   "metadata": {},
   "source": [
    "# Regression Models Lab\n",
    "## Logistic regression: problem statement, derivation, usage"
   ]
  },
  {
   "cell_type": "markdown",
   "metadata": {},
   "source": [
    "### Classification: Problem Statement\n",
    "In many real cases, the output variable is categorical, i.e. our model should return one of some predefined categories.\n",
    "\n",
    "There are a lot of examples:\n",
    "* Classifying images\n",
    "* Classifying diseases (is a given patient healthy or ill?)\n",
    "* Any case of \"good / bad\" classification\n",
    "* Anomaly detection (e.g. credit card fraud detection)\n",
    "* Processes which involve creating catalogs, etc.\n",
    "\n",
    "We'll start with the simplest case:\n",
    "* Only one input variable $x$\n",
    "* Binary output variable $y$, i.e. either $y = 0$ or $y = 1$"
   ]
  },
  {
   "cell_type": "markdown",
   "metadata": {},
   "source": [
    "### 1. Generate Some Sample Data (1 point)\n",
    "Let's imagine the simplest possible case. For example, we can think of $x$ as \"hours of studying time\" and $y$ as \"passed exam\" (0 of false, 1 if true).\n",
    "\n",
    "A class has 20 students. 12 of them studied between 1 and 3 hours and didn't pass the exam. The other 8 studied between 7 and 10 hours and passed the exam. Let's model this situation.\n",
    "\n",
    "First, to make our work easier, we can split it into two: for failed and passed students. Each student studied a random time, so let's choose this from a random uniform distribution (hint: `np.random.uniform(min, max, size)`).\n",
    "\n",
    "Create the following:\n",
    "```python\n",
    "failed_student_times = np.random.uniform(?, ?, ?)\n",
    "passed_student_times = np.random.uniform(?, ?, ?)\n",
    "all_times = np.concatenate([failed_student_times, passed_student_times])\n",
    "```\n",
    "\n",
    "Now, let's generate the outcome variable: we need 12 zeros, followed by 8 ones.\n",
    "```python\n",
    "exam_result = ...\n",
    "```\n",
    "\n",
    "**Note:** We don't need to use `numpy` arrays but they will give us many benefits later. One is that our code will be really easy and short, and another is that they are very fast (in terms of computation time)."
   ]
  },
  {
   "cell_type": "code",
   "execution_count": 3,
   "metadata": {
    "deletable": false,
    "nbgrader": {
     "checksum": "1926e09cac787971e16133423f28901f",
     "grade": false,
     "grade_id": "cell-9c723e1939fc3177",
     "locked": false,
     "schema_version": 1,
     "solution": true
    }
   },
   "outputs": [
    {
     "data": {
      "text/plain": [
       "array([ 0.,  0.,  0.,  0.,  0.,  0.,  0.,  0.,  0.,  0.,  0.,  0.,  1.,\n",
       "        1.,  1.,  1.,  1.,  1.,  1.,  1.])"
      ]
     },
     "execution_count": 3,
     "metadata": {},
     "output_type": "execute_result"
    }
   ],
   "source": [
    "# YOUR CODE HERE\n",
    "failed_student_times = np.random.uniform(1, 3, 12)\n",
    "passed_student_times = np.random.uniform(7, 10, 8)\n",
    "all_times = np.concatenate([failed_student_times, passed_student_times])\n",
    "#all_times\n",
    "exam_zeros = np.zeros(12)\n",
    "exam_ones = np.ones(8)\n",
    "exam_result = np.concatenate([exam_zeros, exam_ones ])\n",
    "exam_result\n",
    "# # raise NotImplementedError()"
   ]
  },
  {
   "cell_type": "code",
   "execution_count": 4,
   "metadata": {
    "collapsed": true,
    "deletable": false,
    "editable": false,
    "nbgrader": {
     "checksum": "dc76662f57db4d8fbbe160bed101ec6f",
     "grade": true,
     "grade_id": "cell-77dbf808a1024c06",
     "locked": true,
     "points": 1,
     "schema_version": 1,
     "solution": false
    }
   },
   "outputs": [],
   "source": [
    "assert_is_instance(all_times, np.ndarray)\n",
    "assert_is_instance(exam_result, np.ndarray)"
   ]
  },
  {
   "cell_type": "markdown",
   "metadata": {},
   "source": [
    "If we now plot the student performance, we'll get something like this:"
   ]
  },
  {
   "cell_type": "code",
   "execution_count": 5,
   "metadata": {},
   "outputs": [
    {
     "data": {
      "image/png": "[encoded data removed]",
      "text/plain": [
       "<matplotlib.figure.Figure at 0x2b5ee0384e0>"
      ]
     },
     "metadata": {},
     "output_type": "display_data"
    }
   ],
   "source": [
    "def plot_exam_results():\n",
    "    plt.scatter(all_times, exam_result)\n",
    "    plt.xlabel(\"Study time (hours)\")\n",
    "    plt.ylabel(\"Exam result\")\n",
    "    plt.yticks([0, 1])\n",
    "    plt.show()\n",
    "plot_exam_results()"
   ]
  },
  {
   "cell_type": "markdown",
   "metadata": {},
   "source": [
    "There's a very obvious distinction between the two classes. Once again, that's because we wanted so.\n",
    "\n",
    "How can we model the data? An example would be:\n",
    "```python\n",
    "if x < 5: # or x < 6, or something like that\n",
    "    return 0\n",
    "else:\n",
    "    return 1\n",
    "```\n",
    "\n",
    "This model works but let's look at a more realistic scenario."
   ]
  },
  {
   "cell_type": "markdown",
   "metadata": {},
   "source": [
    "### 2. Generate More Realistic Sample Data (1 point)\n",
    "Now, this was a really simple view. A more involved model would include some error.\n",
    "\n",
    "First, let's ensure the test results are repeatable, even with random variables:"
   ]
  },
  {
   "cell_type": "code",
   "execution_count": 6,
   "metadata": {
    "collapsed": true
   },
   "outputs": [],
   "source": [
    "np.random.seed(42)"
   ]
  },
  {
   "cell_type": "markdown",
   "metadata": {},
   "source": [
    "Let's reuse the previous example but this time:\n",
    "* Generate 20 study times between 1 and 10. Choose each number randomly from a uniform distribution (hint: this is the same as what you did before).\n",
    "* Generate the exam output variable like this: For each study time, if it's $\\le$ 3 hours, it should be 0, if it's $\\ge$ 7 hours, it should be 1. If the study time is between 3 and 7 hours, decide randomly whether it should be 0 or 1.\n",
    "* How do we decide randomly between 0 and 1? A simple way would be to generate a random number between 0 and 1: `np.random.random()`. If that number is >= 0.5, say the student passed the exam and vice versa."
   ]
  },
  {
   "cell_type": "code",
   "execution_count": 7,
   "metadata": {
    "deletable": false,
    "nbgrader": {
     "checksum": "e676611d84d33585bdbc288476c4abcc",
     "grade": false,
     "grade_id": "cell-9740949f4386388b",
     "locked": false,
     "schema_version": 1,
     "solution": true
    }
   },
   "outputs": [
    {
     "data": {
      "text/plain": [
       "array([ 1.,  1.,  1.,  0.,  0.,  0.,  0.,  1.,  0.,  1.,  0.,  1.,  1.,\n",
       "        0.,  0.,  0.,  0.,  0.,  1.,  0.])"
      ]
     },
     "execution_count": 7,
     "metadata": {},
     "output_type": "execute_result"
    }
   ],
   "source": [
    "# all_times = None\n",
    "all_times = np.random.uniform(1, 10, 20)\n",
    "exam_result = np.array([])\n",
    "\n",
    "for item in all_times:\n",
    "    if item <= 3:\n",
    "        hours = 0\n",
    "#         exam_result=np.append(exam_result, [hours])\n",
    "    elif item >=7:\n",
    "        hours = 1\n",
    "#         exam_result = np.append(exam_result, [hours])\n",
    "    elif item>3 and item<7:\n",
    "        hours = np.random.random()\n",
    "        if hours >= 0.5:\n",
    "            hours=1\n",
    "#             exam_result = np.append(exam_result, [hours])\n",
    "        else:\n",
    "            hours=0\n",
    "#             exam_result = np.append(exam_result, [hours])\n",
    "    exam_result = np.append(exam_result, [hours])\n",
    "            \n",
    "exam_result\n",
    "        \n",
    "# hours = np.random.random()\n",
    "# hours\n",
    "# YOUR CODE HERE\n",
    "# raise NotImplementedError()"
   ]
  },
  {
   "cell_type": "code",
   "execution_count": 8,
   "metadata": {
    "collapsed": true,
    "deletable": false,
    "editable": false,
    "nbgrader": {
     "checksum": "84402a75e10ed6dacd326da0ada9473c",
     "grade": true,
     "grade_id": "cell-56a1a993a1fe0b84",
     "locked": true,
     "points": 1,
     "schema_version": 1,
     "solution": false
    }
   },
   "outputs": [],
   "source": [
    "assert_is_instance(all_times, np.ndarray)\n",
    "assert_is_instance(exam_result, np.ndarray)"
   ]
  },
  {
   "cell_type": "code",
   "execution_count": 9,
   "metadata": {},
   "outputs": [
    {
     "data": {
      "image/png": "[encoded data removed]",
      "text/plain": [
       "<matplotlib.figure.Figure at 0x2b5ee180ac8>"
      ]
     },
     "metadata": {},
     "output_type": "display_data"
    }
   ],
   "source": [
    "plot_exam_results()"
   ]
  },
  {
   "cell_type": "markdown",
   "metadata": {},
   "source": [
    "Now the results loke more fuzzy. It's obvious that we can't model them with 100% accuracy.\n",
    "\n",
    "Still, let's try some things."
   ]
  },
  {
   "cell_type": "markdown",
   "metadata": {},
   "source": [
    "### 3. Decide on a Modelling Function (2 points)\n",
    "We can see that our old approach can work somewhat. If we try to plot the prediction function, we'll see this:"
   ]
  },
  {
   "cell_type": "code",
   "execution_count": 10,
   "metadata": {},
   "outputs": [
    {
     "data": {
      "image/png": "[encoded data removed]",
      "text/plain": [
       "<matplotlib.figure.Figure at 0x2b5ee350c88>"
      ]
     },
     "metadata": {},
     "output_type": "display_data"
    }
   ],
   "source": [
    "plt.scatter(all_times, exam_result)\n",
    "plt.hlines([0, 1], [1, 5], [5, 10], color = \"red\")\n",
    "plt.vlines(5, 0, 1, linestyle = \"dashed\", color = \"red\")\n",
    "plt.show()"
   ]
  },
  {
   "cell_type": "markdown",
   "metadata": {},
   "source": [
    "The red line is called \"decision boundary\". We can see that we misclassified some students but we are mostly correct.\n",
    "\n",
    "However, the function has problems. First of all, it's undefined at $x = 5$ (we don't know if it's 0 or 1). Second, it has \"sharp corners\", and matematicians hate functions with sharp corners :).\n",
    "\n",
    "We're looking for a function that kind of looks like our line. And there is such a function. It's called a **sigmoid** function. Its definition is like this:\n",
    "\n",
    "$$ \\sigma(z) = \\frac{1}{1+e^{-z}} $$\n",
    "\n",
    "Implement the previous formula in code. Note: you can use `np.exp(something)` instead of `np.e ** something` - it's much more reliable."
   ]
  },
  {
   "cell_type": "code",
   "execution_count": 11,
   "metadata": {
    "collapsed": true,
    "deletable": false,
    "nbgrader": {
     "checksum": "79cce4179f40f32dc70c0beed97bd359",
     "grade": false,
     "grade_id": "cell-5a833837981bc4a0",
     "locked": false,
     "schema_version": 1,
     "solution": true
    }
   },
   "outputs": [],
   "source": [
    "def sigmoid(z):\n",
    "    sigma = 1/(1+np.exp(-z))\n",
    "    return sigma"
   ]
  },
  {
   "cell_type": "markdown",
   "metadata": {},
   "source": [
    "Now that we have the function (and hopefully it's correct :D), we can plot it. The plot should look similar to what's described in [this](https://en.wikipedia.org/wiki/Sigmoid_function) article."
   ]
  },
  {
   "cell_type": "code",
   "execution_count": 12,
   "metadata": {},
   "outputs": [
    {
     "data": {
      "image/png": "[encoded data removed]",
      "text/plain": [
       "<matplotlib.figure.Figure at 0x2b5ee377fd0>"
      ]
     },
     "metadata": {},
     "output_type": "display_data"
    }
   ],
   "source": [
    "x = np.linspace(-10, 10, 1000)\n",
    "y = sigmoid(x) # Note that this line should work correctly\n",
    "plt.plot(x, y)\n",
    "plt.show()"
   ]
  },
  {
   "cell_type": "markdown",
   "metadata": {},
   "source": [
    "This function, as you can see, has interesting properties:\n",
    "* For really large negative $x$ (say $x < -5$), it's practically 0\n",
    "* For really large positive $x$, it's practically 1\n",
    "* At 0, it's 0.5 exactly\n",
    "\n",
    "Also, it looks like our original guess and has no sharp corners. This function is also called **logistic function** and it will be our **modelling function**."
   ]
  },
  {
   "cell_type": "code",
   "execution_count": 13,
   "metadata": {
    "collapsed": true,
    "deletable": false,
    "editable": false,
    "nbgrader": {
     "checksum": "7fe48a38476e895d11e6c90914095c8f",
     "grade": true,
     "grade_id": "cell-fe10135ce3b8cff3",
     "locked": true,
     "points": 1,
     "schema_version": 1,
     "solution": false
    }
   },
   "outputs": [],
   "source": [
    "assert_almost_equal(sigmoid(-50), 0, delta = 1e-10)\n",
    "assert_almost_equal(sigmoid(0), 0.5, delta = 1e-10)\n",
    "assert_almost_equal(sigmoid(50), 1, delta = 1e-10)"
   ]
  },
  {
   "cell_type": "markdown",
   "metadata": {},
   "source": [
    "We will need to fix an issue: $\\sigma(z)$ has continuous output, as we already saw. How do we make it binary?\n",
    "\n",
    "Simple enough; if $\\sigma \\lt 0.5$, we'll output 0 and 1 otherwise (note that this will assign class 1 to $\\sigma(0)$ but that's OK).\n",
    "\n",
    "Let's write a function that accepts a $z$ (number between 0 and 1) and decides what output label shoud it produce: 0 or 1. Note that this is exactly the process that we defined as \"thresholding\" some time ago."
   ]
  },
  {
   "cell_type": "code",
   "execution_count": 14,
   "metadata": {
    "collapsed": true,
    "deletable": false,
    "nbgrader": {
     "checksum": "0a495a6adcb465a2a0701dbfa84eeb3e",
     "grade": false,
     "grade_id": "cell-72d18afc1bdbc4cd",
     "locked": false,
     "schema_version": 1,
     "solution": true
    }
   },
   "outputs": [],
   "source": [
    "def generate_output(z):\n",
    "    if sigmoid(z) < 0.5:\n",
    "        return 0\n",
    "    else:\n",
    "        return 1"
   ]
  },
  {
   "cell_type": "code",
   "execution_count": 15,
   "metadata": {
    "deletable": false,
    "editable": false,
    "nbgrader": {
     "checksum": "c8de1dbddc706ac3ffa6b6da737431c9",
     "grade": true,
     "grade_id": "cell-e6e5fb40e0bb020f",
     "locked": true,
     "points": 1,
     "schema_version": 1,
     "solution": false
    }
   },
   "outputs": [
    {
     "name": "stdout",
     "output_type": "stream",
     "text": [
      "-2 0.119202922022 0\n",
      "-1 0.26894142137 0\n",
      "0 0.5 1\n",
      "1 0.73105857863 1\n",
      "2 0.880797077978 1\n"
     ]
    }
   ],
   "source": [
    "for x in np.arange(-2, 3):\n",
    "    print(x, sigmoid(x), generate_output(x))"
   ]
  },
  {
   "cell_type": "markdown",
   "metadata": {},
   "source": [
    "### 4. Use the Sigmoid Function as a Model (1 point)\n",
    "Now, we've got another issue ahead. How can we model the parameter $z$ of $\\sigma(z)$? All we know is that it should be a number.\n",
    "\n",
    "Well, this number must be somehow related to the input parameters. The simplest possible relation is linear:\n",
    "\n",
    "$$z = ax + b$$\n",
    "\n",
    "where $x$ is the number of hours, $a$ is its coefficient, and $b$ is an intercept (also called \"free term\" or \"bias term\").\n",
    "\n",
    "Therefore, we can rewrite our function $\\sigma(z)$ to be $l(x)$, like so:\n",
    "$$ l(x) = \\frac{1}{1-e^{-(ax+b)}}=\\sigma(ax+b) $$\n",
    "\n",
    "$l$ stands for \"logistic function\".\n",
    "\n",
    "This function has two properties:\n",
    "* Its value will tell us which class to choose (0 or 1)\n",
    "* It can serve as a probability: $l(x)$ is equal to the probability that the output class is 1\n",
    "\n",
    "Write a function that does exactly this. **Reuse your implementation** of the `sigmoid` function."
   ]
  },
  {
   "cell_type": "code",
   "execution_count": 16,
   "metadata": {
    "collapsed": true,
    "deletable": false,
    "nbgrader": {
     "checksum": "5fb407862fc4e5a8b3bdc4dacbc39488",
     "grade": false,
     "grade_id": "cell-671cdc824b7d585c",
     "locked": false,
     "schema_version": 1,
     "solution": true
    }
   },
   "outputs": [],
   "source": [
    "def logistic_function(x, a, b):\n",
    "    logistic = sigmoid(a*x+b)\n",
    "    return logistic"
   ]
  },
  {
   "cell_type": "code",
   "execution_count": 17,
   "metadata": {
    "deletable": false,
    "editable": false,
    "nbgrader": {
     "checksum": "df0ce821e8fff8db059aa511d6bc8049",
     "grade": true,
     "grade_id": "cell-92f8ba87e6c6ee5e",
     "locked": true,
     "points": 1,
     "schema_version": 1,
     "solution": false
    }
   },
   "outputs": [
    {
     "name": "stdout",
     "output_type": "stream",
     "text": [
      "0.5\n",
      "[ 0.99908895  0.99330715  0.95257413  0.73105858  0.26894142  0.04742587\n",
      "  0.00669285]\n"
     ]
    }
   ],
   "source": [
    "# The function should work with both numbers and numpy arrays\n",
    "print(logistic_function(0, 1, 0)) # Should be 0.5\n",
    "print(logistic_function(np.arange(-2, 5), a = -2, b = 3)) # Should return decreasing numbers"
   ]
  },
  {
   "cell_type": "markdown",
   "metadata": {},
   "source": [
    "Now the problem is similar to what we did before: we need to find the best parameters $a$ and $b$.\n",
    "\n",
    "Let's try out different values of $a$ and $b$, just to get a feel of what we need to do:"
   ]
  },
  {
   "cell_type": "code",
   "execution_count": 18,
   "metadata": {},
   "outputs": [
    {
     "data": {
      "image/png": "[encoded data removed]",
      "text/plain": [
       "<matplotlib.figure.Figure at 0x2b5ee3372b0>"
      ]
     },
     "metadata": {},
     "output_type": "display_data"
    },
    {
     "data": {
      "image/png": "[encoded data removed]",
      "text/plain": [
       "<matplotlib.figure.Figure at 0x2b5ee33ff98>"
      ]
     },
     "metadata": {},
     "output_type": "display_data"
    },
    {
     "data": {
      "image/png": "[encoded data removed]",
      "text/plain": [
       "<matplotlib.figure.Figure at 0x2b5ee60a1d0>"
      ]
     },
     "metadata": {},
     "output_type": "display_data"
    },
    {
     "data": {
      "image/png": "[encoded data removed]",
      "text/plain": [
       "<matplotlib.figure.Figure at 0x2b5ee5d7940>"
      ]
     },
     "metadata": {},
     "output_type": "display_data"
    }
   ],
   "source": [
    "def plot_prediction_with_sigmoid(a, b, x, y, title = \"\"):\n",
    "    plt.scatter(x, y)\n",
    "    logistic_x_values = np.linspace(-2, 12, 1000)\n",
    "    logistic_y_values = logistic_function(logistic_x_values, a, b)\n",
    "    plt.plot(logistic_x_values, logistic_y_values, color = \"red\")\n",
    "    plt.title(title)\n",
    "    plt.show()\n",
    "\n",
    "for a, b in [[2, 5], [3, -6], [-5, 0.5], [1.5, -8]]:\n",
    "    plot_prediction_with_sigmoid(a, b, all_times, exam_result)"
   ]
  },
  {
   "cell_type": "markdown",
   "metadata": {},
   "source": [
    "We can understand that $a$ controls how \"spread out\" the function is, also if $a < 0$, the function is inverted. $b$ seems to control where the \"center point\" is."
   ]
  },
  {
   "cell_type": "markdown",
   "metadata": {},
   "source": [
    "### 5. Choose an Error Function (2 points)\n",
    "Now that we have an idea what our modelling function does, the next step is to choose a good error function.\n",
    "\n",
    "The error function should accept a single predicted value $\\tilde{y} = \\sigma(ax+b)$ and an actual value $y$. It should tell us whether we're right or not. Note that the sigmoid value is always between 0 and 1.\n",
    "\n",
    "**Note:** In terminology, there's a difference between \"error function\" and \"cost / loss function\". The error function is defined for one point only while the cost function is for the entire dataset.\n",
    "\n",
    "Since we have two classes, we will need to define a separate error function for each class: $error_0$ will correspond to the case where the correct class should be $0$; $error_1$ will correspond to class $1$.\n",
    "\n",
    "Our intuition is that the errors should be equal to zero if we predicted the class correctly, and greater than zero otherwise. So, for example, the error functions might look like this:"
   ]
  },
  {
   "cell_type": "code",
   "execution_count": 19,
   "metadata": {},
   "outputs": [
    {
     "data": {
      "image/png": "[encoded data removed]",
      "text/plain": [
       "<matplotlib.figure.Figure at 0x2b5ee3633c8>"
      ]
     },
     "metadata": {},
     "output_type": "display_data"
    }
   ],
   "source": [
    "sigmoid_values = np.linspace(0, 1, 1000)\n",
    "error_0_values = sigmoid_values\n",
    "error_1_values = - sigmoid_values + 1\n",
    "plt.plot(sigmoid_values, error_0_values, label = \"$error_0$\")\n",
    "plt.plot(sigmoid_values, error_1_values, label = \"$error_1$\")\n",
    "plt.legend()\n",
    "plt.show()"
   ]
  },
  {
   "cell_type": "markdown",
   "metadata": {},
   "source": [
    "Take $error_0$ for example. It is 0 if the predicted class is 0 and increases everywhere else.\n",
    "\n",
    "There are many choices for error functions. However, not all are created equal. For purposes we're not going to discuss, it turns out the best error function for logistic regression is this:\n",
    "$$\n",
    "error_0 = -\\ln(1-x) \\\\\n",
    "error_1 = -\\ln(x)\n",
    "$$\n",
    "\n",
    "If you're interested why this function is the best, you can look it up online. The main idea is that this function has only one minimum. When we do gradient descent, we can get stuck in a local minimum and miss the global one. This error function ensures that nasty thing won't happen.\n",
    "\n",
    "Let's implement and inspect the two functions:"
   ]
  },
  {
   "cell_type": "code",
   "execution_count": 20,
   "metadata": {
    "collapsed": true,
    "deletable": false,
    "nbgrader": {
     "checksum": "9ecbdc8a9fa75771cf373aa8c9b2429b",
     "grade": false,
     "grade_id": "cell-b8c755eadd32790e",
     "locked": false,
     "schema_version": 1,
     "solution": true
    }
   },
   "outputs": [],
   "source": [
    "# x = np.array([])\n",
    "def error_0(x):\n",
    "    error0=-np.log(1 - x)\n",
    "    \n",
    "#     if x==1:\n",
    "#         error0 = math.inf\n",
    "#     else:\n",
    "#         error0=-np.log(1 - x)\n",
    "#         np.all(x)\n",
    "#         error0 = -(math.log(1-x, np.e))\n",
    "        \n",
    "    return error0\n",
    "\n",
    "def error_1(x):\n",
    "    error1=-np.log(x)\n",
    "#     if x==0:\n",
    "#         error1 = math.inf\n",
    "#     else:\n",
    "#         error1=-np.log(x)\n",
    "#         error1=-(math.log(x, np.e))\n",
    "    return error1\n",
    "\n",
    "# error_0 = -(math.log(1-(-10), np.e))\n",
    "# error_1 = -(math.log(-10, np.e))\n",
    "# error_1\n",
    "\n",
    "# test = math.inf\n",
    "# test >0\n",
    "\n",
    "# if x==1:\n",
    "#     error_0 = math.inf\n",
    "# else:\n",
    "#     error_0 = -(math.log(1-x, np.e))\n",
    "\n",
    "\n",
    "# test = -0.0 == 0.0\n",
    "# test\n",
    "# error_0=-(np.log([0, np.e]))\n",
    "# type(error_0[0])\n",
    "# sigmoid_values = np.linspace(0, 1, 1000)\n",
    "# sigmoid_values\n",
    "# error_1=-(np.log(0))\n",
    "# error_1"
   ]
  },
  {
   "cell_type": "code",
   "execution_count": 21,
   "metadata": {
    "deletable": false,
    "editable": false,
    "nbgrader": {
     "checksum": "2ebfe9f3d7be1711793bd74df9fa7566",
     "grade": true,
     "grade_id": "cell-19b0edfed3b62042",
     "locked": true,
     "points": 1,
     "schema_version": 1,
     "solution": false
    }
   },
   "outputs": [
    {
     "name": "stderr",
     "output_type": "stream",
     "text": [
      "D:\\Install\\Anaconda\\lib\\site-packages\\ipykernel_launcher.py:3: RuntimeWarning: divide by zero encountered in log\n",
      "  This is separate from the ipykernel package so we can avoid doing imports until\n",
      "D:\\Install\\Anaconda\\lib\\site-packages\\ipykernel_launcher.py:15: RuntimeWarning: divide by zero encountered in log\n",
      "  from ipykernel import kernelapp as app\n"
     ]
    }
   ],
   "source": [
    "assert_almost_equal(error_0(0), 0)\n",
    "assert_greater(error_0(1), 0)\n",
    "\n",
    "assert_almost_equal(error_1(1), 0)\n",
    "assert_greater(error_1(0), 0)\n"
   ]
  },
  {
   "cell_type": "code",
   "execution_count": 22,
   "metadata": {},
   "outputs": [
    {
     "name": "stderr",
     "output_type": "stream",
     "text": [
      "D:\\Install\\Anaconda\\lib\\site-packages\\ipykernel_launcher.py:3: RuntimeWarning: divide by zero encountered in log\n",
      "  This is separate from the ipykernel package so we can avoid doing imports until\n",
      "D:\\Install\\Anaconda\\lib\\site-packages\\ipykernel_launcher.py:15: RuntimeWarning: divide by zero encountered in log\n",
      "  from ipykernel import kernelapp as app\n"
     ]
    },
    {
     "data": {
      "image/png": "[encoded data removed]",
      "text/plain": [
       "<matplotlib.figure.Figure at 0x2b5ee79aa20>"
      ]
     },
     "metadata": {},
     "output_type": "display_data"
    },
    {
     "data": {
      "text/plain": [
       "array([ 0.        ,  0.001001  ,  0.002002  ,  0.003003  ,  0.004004  ,\n",
       "        0.00500501,  0.00600601,  0.00700701,  0.00800801,  0.00900901,\n",
       "        0.01001001,  0.01101101,  0.01201201,  0.01301301,  0.01401401,\n",
       "        0.01501502,  0.01601602,  0.01701702,  0.01801802,  0.01901902,\n",
       "        0.02002002,  0.02102102,  0.02202202,  0.02302302,  0.02402402,\n",
       "        0.02502503,  0.02602603,  0.02702703,  0.02802803,  0.02902903,\n",
       "        0.03003003,  0.03103103,  0.03203203,  0.03303303,  0.03403403,\n",
       "        0.03503504,  0.03603604,  0.03703704,  0.03803804,  0.03903904,\n",
       "        0.04004004,  0.04104104,  0.04204204,  0.04304304,  0.04404404,\n",
       "        0.04504505,  0.04604605,  0.04704705,  0.04804805,  0.04904905,\n",
       "        0.05005005,  0.05105105,  0.05205205,  0.05305305,  0.05405405,\n",
       "        0.05505506,  0.05605606,  0.05705706,  0.05805806,  0.05905906,\n",
       "        0.06006006,  0.06106106,  0.06206206,  0.06306306,  0.06406406,\n",
       "        0.06506507,  0.06606607,  0.06706707,  0.06806807,  0.06906907,\n",
       "        0.07007007,  0.07107107,  0.07207207,  0.07307307,  0.07407407,\n",
       "        0.07507508,  0.07607608,  0.07707708,  0.07807808,  0.07907908,\n",
       "        0.08008008,  0.08108108,  0.08208208,  0.08308308,  0.08408408,\n",
       "        0.08508509,  0.08608609,  0.08708709,  0.08808809,  0.08908909,\n",
       "        0.09009009,  0.09109109,  0.09209209,  0.09309309,  0.09409409,\n",
       "        0.0950951 ,  0.0960961 ,  0.0970971 ,  0.0980981 ,  0.0990991 ,\n",
       "        0.1001001 ,  0.1011011 ,  0.1021021 ,  0.1031031 ,  0.1041041 ,\n",
       "        0.10510511,  0.10610611,  0.10710711,  0.10810811,  0.10910911,\n",
       "        0.11011011,  0.11111111,  0.11211211,  0.11311311,  0.11411411,\n",
       "        0.11511512,  0.11611612,  0.11711712,  0.11811812,  0.11911912,\n",
       "        0.12012012,  0.12112112,  0.12212212,  0.12312312,  0.12412412,\n",
       "        0.12512513,  0.12612613,  0.12712713,  0.12812813,  0.12912913,\n",
       "        0.13013013,  0.13113113,  0.13213213,  0.13313313,  0.13413413,\n",
       "        0.13513514,  0.13613614,  0.13713714,  0.13813814,  0.13913914,\n",
       "        0.14014014,  0.14114114,  0.14214214,  0.14314314,  0.14414414,\n",
       "        0.14514515,  0.14614615,  0.14714715,  0.14814815,  0.14914915,\n",
       "        0.15015015,  0.15115115,  0.15215215,  0.15315315,  0.15415415,\n",
       "        0.15515516,  0.15615616,  0.15715716,  0.15815816,  0.15915916,\n",
       "        0.16016016,  0.16116116,  0.16216216,  0.16316316,  0.16416416,\n",
       "        0.16516517,  0.16616617,  0.16716717,  0.16816817,  0.16916917,\n",
       "        0.17017017,  0.17117117,  0.17217217,  0.17317317,  0.17417417,\n",
       "        0.17517518,  0.17617618,  0.17717718,  0.17817818,  0.17917918,\n",
       "        0.18018018,  0.18118118,  0.18218218,  0.18318318,  0.18418418,\n",
       "        0.18518519,  0.18618619,  0.18718719,  0.18818819,  0.18918919,\n",
       "        0.19019019,  0.19119119,  0.19219219,  0.19319319,  0.19419419,\n",
       "        0.1951952 ,  0.1961962 ,  0.1971972 ,  0.1981982 ,  0.1991992 ,\n",
       "        0.2002002 ,  0.2012012 ,  0.2022022 ,  0.2032032 ,  0.2042042 ,\n",
       "        0.20520521,  0.20620621,  0.20720721,  0.20820821,  0.20920921,\n",
       "        0.21021021,  0.21121121,  0.21221221,  0.21321321,  0.21421421,\n",
       "        0.21521522,  0.21621622,  0.21721722,  0.21821822,  0.21921922,\n",
       "        0.22022022,  0.22122122,  0.22222222,  0.22322322,  0.22422422,\n",
       "        0.22522523,  0.22622623,  0.22722723,  0.22822823,  0.22922923,\n",
       "        0.23023023,  0.23123123,  0.23223223,  0.23323323,  0.23423423,\n",
       "        0.23523524,  0.23623624,  0.23723724,  0.23823824,  0.23923924,\n",
       "        0.24024024,  0.24124124,  0.24224224,  0.24324324,  0.24424424,\n",
       "        0.24524525,  0.24624625,  0.24724725,  0.24824825,  0.24924925,\n",
       "        0.25025025,  0.25125125,  0.25225225,  0.25325325,  0.25425425,\n",
       "        0.25525526,  0.25625626,  0.25725726,  0.25825826,  0.25925926,\n",
       "        0.26026026,  0.26126126,  0.26226226,  0.26326326,  0.26426426,\n",
       "        0.26526527,  0.26626627,  0.26726727,  0.26826827,  0.26926927,\n",
       "        0.27027027,  0.27127127,  0.27227227,  0.27327327,  0.27427427,\n",
       "        0.27527528,  0.27627628,  0.27727728,  0.27827828,  0.27927928,\n",
       "        0.28028028,  0.28128128,  0.28228228,  0.28328328,  0.28428428,\n",
       "        0.28528529,  0.28628629,  0.28728729,  0.28828829,  0.28928929,\n",
       "        0.29029029,  0.29129129,  0.29229229,  0.29329329,  0.29429429,\n",
       "        0.2952953 ,  0.2962963 ,  0.2972973 ,  0.2982983 ,  0.2992993 ,\n",
       "        0.3003003 ,  0.3013013 ,  0.3023023 ,  0.3033033 ,  0.3043043 ,\n",
       "        0.30530531,  0.30630631,  0.30730731,  0.30830831,  0.30930931,\n",
       "        0.31031031,  0.31131131,  0.31231231,  0.31331331,  0.31431431,\n",
       "        0.31531532,  0.31631632,  0.31731732,  0.31831832,  0.31931932,\n",
       "        0.32032032,  0.32132132,  0.32232232,  0.32332332,  0.32432432,\n",
       "        0.32532533,  0.32632633,  0.32732733,  0.32832833,  0.32932933,\n",
       "        0.33033033,  0.33133133,  0.33233233,  0.33333333,  0.33433433,\n",
       "        0.33533534,  0.33633634,  0.33733734,  0.33833834,  0.33933934,\n",
       "        0.34034034,  0.34134134,  0.34234234,  0.34334334,  0.34434434,\n",
       "        0.34534535,  0.34634635,  0.34734735,  0.34834835,  0.34934935,\n",
       "        0.35035035,  0.35135135,  0.35235235,  0.35335335,  0.35435435,\n",
       "        0.35535536,  0.35635636,  0.35735736,  0.35835836,  0.35935936,\n",
       "        0.36036036,  0.36136136,  0.36236236,  0.36336336,  0.36436436,\n",
       "        0.36536537,  0.36636637,  0.36736737,  0.36836837,  0.36936937,\n",
       "        0.37037037,  0.37137137,  0.37237237,  0.37337337,  0.37437437,\n",
       "        0.37537538,  0.37637638,  0.37737738,  0.37837838,  0.37937938,\n",
       "        0.38038038,  0.38138138,  0.38238238,  0.38338338,  0.38438438,\n",
       "        0.38538539,  0.38638639,  0.38738739,  0.38838839,  0.38938939,\n",
       "        0.39039039,  0.39139139,  0.39239239,  0.39339339,  0.39439439,\n",
       "        0.3953954 ,  0.3963964 ,  0.3973974 ,  0.3983984 ,  0.3993994 ,\n",
       "        0.4004004 ,  0.4014014 ,  0.4024024 ,  0.4034034 ,  0.4044044 ,\n",
       "        0.40540541,  0.40640641,  0.40740741,  0.40840841,  0.40940941,\n",
       "        0.41041041,  0.41141141,  0.41241241,  0.41341341,  0.41441441,\n",
       "        0.41541542,  0.41641642,  0.41741742,  0.41841842,  0.41941942,\n",
       "        0.42042042,  0.42142142,  0.42242242,  0.42342342,  0.42442442,\n",
       "        0.42542543,  0.42642643,  0.42742743,  0.42842843,  0.42942943,\n",
       "        0.43043043,  0.43143143,  0.43243243,  0.43343343,  0.43443443,\n",
       "        0.43543544,  0.43643644,  0.43743744,  0.43843844,  0.43943944,\n",
       "        0.44044044,  0.44144144,  0.44244244,  0.44344344,  0.44444444,\n",
       "        0.44544545,  0.44644645,  0.44744745,  0.44844845,  0.44944945,\n",
       "        0.45045045,  0.45145145,  0.45245245,  0.45345345,  0.45445445,\n",
       "        0.45545546,  0.45645646,  0.45745746,  0.45845846,  0.45945946,\n",
       "        0.46046046,  0.46146146,  0.46246246,  0.46346346,  0.46446446,\n",
       "        0.46546547,  0.46646647,  0.46746747,  0.46846847,  0.46946947,\n",
       "        0.47047047,  0.47147147,  0.47247247,  0.47347347,  0.47447447,\n",
       "        0.47547548,  0.47647648,  0.47747748,  0.47847848,  0.47947948,\n",
       "        0.48048048,  0.48148148,  0.48248248,  0.48348348,  0.48448448,\n",
       "        0.48548549,  0.48648649,  0.48748749,  0.48848849,  0.48948949,\n",
       "        0.49049049,  0.49149149,  0.49249249,  0.49349349,  0.49449449,\n",
       "        0.4954955 ,  0.4964965 ,  0.4974975 ,  0.4984985 ,  0.4994995 ,\n",
       "        0.5005005 ,  0.5015015 ,  0.5025025 ,  0.5035035 ,  0.5045045 ,\n",
       "        0.50550551,  0.50650651,  0.50750751,  0.50850851,  0.50950951,\n",
       "        0.51051051,  0.51151151,  0.51251251,  0.51351351,  0.51451451,\n",
       "        0.51551552,  0.51651652,  0.51751752,  0.51851852,  0.51951952,\n",
       "        0.52052052,  0.52152152,  0.52252252,  0.52352352,  0.52452452,\n",
       "        0.52552553,  0.52652653,  0.52752753,  0.52852853,  0.52952953,\n",
       "        0.53053053,  0.53153153,  0.53253253,  0.53353353,  0.53453453,\n",
       "        0.53553554,  0.53653654,  0.53753754,  0.53853854,  0.53953954,\n",
       "        0.54054054,  0.54154154,  0.54254254,  0.54354354,  0.54454454,\n",
       "        0.54554555,  0.54654655,  0.54754755,  0.54854855,  0.54954955,\n",
       "        0.55055055,  0.55155155,  0.55255255,  0.55355355,  0.55455455,\n",
       "        0.55555556,  0.55655656,  0.55755756,  0.55855856,  0.55955956,\n",
       "        0.56056056,  0.56156156,  0.56256256,  0.56356356,  0.56456456,\n",
       "        0.56556557,  0.56656657,  0.56756757,  0.56856857,  0.56956957,\n",
       "        0.57057057,  0.57157157,  0.57257257,  0.57357357,  0.57457457,\n",
       "        0.57557558,  0.57657658,  0.57757758,  0.57857858,  0.57957958,\n",
       "        0.58058058,  0.58158158,  0.58258258,  0.58358358,  0.58458458,\n",
       "        0.58558559,  0.58658659,  0.58758759,  0.58858859,  0.58958959,\n",
       "        0.59059059,  0.59159159,  0.59259259,  0.59359359,  0.59459459,\n",
       "        0.5955956 ,  0.5965966 ,  0.5975976 ,  0.5985986 ,  0.5995996 ,\n",
       "        0.6006006 ,  0.6016016 ,  0.6026026 ,  0.6036036 ,  0.6046046 ,\n",
       "        0.60560561,  0.60660661,  0.60760761,  0.60860861,  0.60960961,\n",
       "        0.61061061,  0.61161161,  0.61261261,  0.61361361,  0.61461461,\n",
       "        0.61561562,  0.61661662,  0.61761762,  0.61861862,  0.61961962,\n",
       "        0.62062062,  0.62162162,  0.62262262,  0.62362362,  0.62462462,\n",
       "        0.62562563,  0.62662663,  0.62762763,  0.62862863,  0.62962963,\n",
       "        0.63063063,  0.63163163,  0.63263263,  0.63363363,  0.63463463,\n",
       "        0.63563564,  0.63663664,  0.63763764,  0.63863864,  0.63963964,\n",
       "        0.64064064,  0.64164164,  0.64264264,  0.64364364,  0.64464464,\n",
       "        0.64564565,  0.64664665,  0.64764765,  0.64864865,  0.64964965,\n",
       "        0.65065065,  0.65165165,  0.65265265,  0.65365365,  0.65465465,\n",
       "        0.65565566,  0.65665666,  0.65765766,  0.65865866,  0.65965966,\n",
       "        0.66066066,  0.66166166,  0.66266266,  0.66366366,  0.66466466,\n",
       "        0.66566567,  0.66666667,  0.66766767,  0.66866867,  0.66966967,\n",
       "        0.67067067,  0.67167167,  0.67267267,  0.67367367,  0.67467467,\n",
       "        0.67567568,  0.67667668,  0.67767768,  0.67867868,  0.67967968,\n",
       "        0.68068068,  0.68168168,  0.68268268,  0.68368368,  0.68468468,\n",
       "        0.68568569,  0.68668669,  0.68768769,  0.68868869,  0.68968969,\n",
       "        0.69069069,  0.69169169,  0.69269269,  0.69369369,  0.69469469,\n",
       "        0.6956957 ,  0.6966967 ,  0.6976977 ,  0.6986987 ,  0.6996997 ,\n",
       "        0.7007007 ,  0.7017017 ,  0.7027027 ,  0.7037037 ,  0.7047047 ,\n",
       "        0.70570571,  0.70670671,  0.70770771,  0.70870871,  0.70970971,\n",
       "        0.71071071,  0.71171171,  0.71271271,  0.71371371,  0.71471471,\n",
       "        0.71571572,  0.71671672,  0.71771772,  0.71871872,  0.71971972,\n",
       "        0.72072072,  0.72172172,  0.72272272,  0.72372372,  0.72472472,\n",
       "        0.72572573,  0.72672673,  0.72772773,  0.72872873,  0.72972973,\n",
       "        0.73073073,  0.73173173,  0.73273273,  0.73373373,  0.73473473,\n",
       "        0.73573574,  0.73673674,  0.73773774,  0.73873874,  0.73973974,\n",
       "        0.74074074,  0.74174174,  0.74274274,  0.74374374,  0.74474474,\n",
       "        0.74574575,  0.74674675,  0.74774775,  0.74874875,  0.74974975,\n",
       "        0.75075075,  0.75175175,  0.75275275,  0.75375375,  0.75475475,\n",
       "        0.75575576,  0.75675676,  0.75775776,  0.75875876,  0.75975976,\n",
       "        0.76076076,  0.76176176,  0.76276276,  0.76376376,  0.76476476,\n",
       "        0.76576577,  0.76676677,  0.76776777,  0.76876877,  0.76976977,\n",
       "        0.77077077,  0.77177177,  0.77277277,  0.77377377,  0.77477477,\n",
       "        0.77577578,  0.77677678,  0.77777778,  0.77877878,  0.77977978,\n",
       "        0.78078078,  0.78178178,  0.78278278,  0.78378378,  0.78478478,\n",
       "        0.78578579,  0.78678679,  0.78778779,  0.78878879,  0.78978979,\n",
       "        0.79079079,  0.79179179,  0.79279279,  0.79379379,  0.79479479,\n",
       "        0.7957958 ,  0.7967968 ,  0.7977978 ,  0.7987988 ,  0.7997998 ,\n",
       "        0.8008008 ,  0.8018018 ,  0.8028028 ,  0.8038038 ,  0.8048048 ,\n",
       "        0.80580581,  0.80680681,  0.80780781,  0.80880881,  0.80980981,\n",
       "        0.81081081,  0.81181181,  0.81281281,  0.81381381,  0.81481481,\n",
       "        0.81581582,  0.81681682,  0.81781782,  0.81881882,  0.81981982,\n",
       "        0.82082082,  0.82182182,  0.82282282,  0.82382382,  0.82482482,\n",
       "        0.82582583,  0.82682683,  0.82782783,  0.82882883,  0.82982983,\n",
       "        0.83083083,  0.83183183,  0.83283283,  0.83383383,  0.83483483,\n",
       "        0.83583584,  0.83683684,  0.83783784,  0.83883884,  0.83983984,\n",
       "        0.84084084,  0.84184184,  0.84284284,  0.84384384,  0.84484484,\n",
       "        0.84584585,  0.84684685,  0.84784785,  0.84884885,  0.84984985,\n",
       "        0.85085085,  0.85185185,  0.85285285,  0.85385385,  0.85485485,\n",
       "        0.85585586,  0.85685686,  0.85785786,  0.85885886,  0.85985986,\n",
       "        0.86086086,  0.86186186,  0.86286286,  0.86386386,  0.86486486,\n",
       "        0.86586587,  0.86686687,  0.86786787,  0.86886887,  0.86986987,\n",
       "        0.87087087,  0.87187187,  0.87287287,  0.87387387,  0.87487487,\n",
       "        0.87587588,  0.87687688,  0.87787788,  0.87887888,  0.87987988,\n",
       "        0.88088088,  0.88188188,  0.88288288,  0.88388388,  0.88488488,\n",
       "        0.88588589,  0.88688689,  0.88788789,  0.88888889,  0.88988989,\n",
       "        0.89089089,  0.89189189,  0.89289289,  0.89389389,  0.89489489,\n",
       "        0.8958959 ,  0.8968969 ,  0.8978979 ,  0.8988989 ,  0.8998999 ,\n",
       "        0.9009009 ,  0.9019019 ,  0.9029029 ,  0.9039039 ,  0.9049049 ,\n",
       "        0.90590591,  0.90690691,  0.90790791,  0.90890891,  0.90990991,\n",
       "        0.91091091,  0.91191191,  0.91291291,  0.91391391,  0.91491491,\n",
       "        0.91591592,  0.91691692,  0.91791792,  0.91891892,  0.91991992,\n",
       "        0.92092092,  0.92192192,  0.92292292,  0.92392392,  0.92492492,\n",
       "        0.92592593,  0.92692693,  0.92792793,  0.92892893,  0.92992993,\n",
       "        0.93093093,  0.93193193,  0.93293293,  0.93393393,  0.93493493,\n",
       "        0.93593594,  0.93693694,  0.93793794,  0.93893894,  0.93993994,\n",
       "        0.94094094,  0.94194194,  0.94294294,  0.94394394,  0.94494494,\n",
       "        0.94594595,  0.94694695,  0.94794795,  0.94894895,  0.94994995,\n",
       "        0.95095095,  0.95195195,  0.95295295,  0.95395395,  0.95495495,\n",
       "        0.95595596,  0.95695696,  0.95795796,  0.95895896,  0.95995996,\n",
       "        0.96096096,  0.96196196,  0.96296296,  0.96396396,  0.96496496,\n",
       "        0.96596597,  0.96696697,  0.96796797,  0.96896897,  0.96996997,\n",
       "        0.97097097,  0.97197197,  0.97297297,  0.97397397,  0.97497497,\n",
       "        0.97597598,  0.97697698,  0.97797798,  0.97897898,  0.97997998,\n",
       "        0.98098098,  0.98198198,  0.98298298,  0.98398398,  0.98498498,\n",
       "        0.98598599,  0.98698699,  0.98798799,  0.98898899,  0.98998999,\n",
       "        0.99099099,  0.99199199,  0.99299299,  0.99399399,  0.99499499,\n",
       "        0.995996  ,  0.996997  ,  0.997998  ,  0.998999  ,  1.        ])"
      ]
     },
     "execution_count": 22,
     "metadata": {},
     "output_type": "execute_result"
    }
   ],
   "source": [
    "# This will produce errors because log(0) is infinity; we can just ignore them for now\n",
    "sigmoid_values = np.linspace(0, 1, 1000)\n",
    "plt.plot(sigmoid_values, error_0(sigmoid_values), label = \"$error_0$\")\n",
    "plt.plot(sigmoid_values, error_1(sigmoid_values), label = \"$error_1$\")\n",
    "plt.legend()\n",
    "plt.show()\n",
    "sigmoid_values"
   ]
  },
  {
   "cell_type": "markdown",
   "metadata": {},
   "source": [
    "These error functions not only work. They have an additional property that makes them special. Focus on $error_0$ for  example. Besides being $0$ when the predicted class is $0$, it's also equal to $\\infty$ when we get the class totally wrong.\n",
    "\n",
    "That's how you punish an algorithm for being wrong :)!"
   ]
  },
  {
   "cell_type": "markdown",
   "metadata": {},
   "source": [
    "One more question: how do we decide whether we should use $error_0$ or $error_1$? We look at the original $y$ (`exam_result` in our case). If $y = 0$, we'll use $error_0$ and vice versa. This will combine our two error functions into one convenient error function.\n",
    "\n",
    "Write this convenient function. It should accept an input value $z \\in (-\\infty; \\infty)$ and an expected output value $y$ (0 or 1).\n",
    "\n",
    "First, it should pass $z$ through the sigmoid function to get $\\sigma(z)$. After that, based on $y$, it should choose the correct function and return the error.\n",
    "* If $y = 0$, return $error_0(\\sigma(z))$\n",
    "* If $y = 1$, return $error_1(\\sigma(z))$"
   ]
  },
  {
   "cell_type": "code",
   "execution_count": 23,
   "metadata": {
    "collapsed": true,
    "deletable": false,
    "nbgrader": {
     "checksum": "cc16f57595525e68013d968698083505",
     "grade": false,
     "grade_id": "cell-d34ce23b84cd1dcc",
     "locked": false,
     "schema_version": 1,
     "solution": true
    }
   },
   "outputs": [],
   "source": [
    "def get_error(z, y):\n",
    "    if y==0:\n",
    "        return error_0(sigmoid(z))\n",
    "    elif y==1:\n",
    "        return error_1(sigmoid(z))"
   ]
  },
  {
   "cell_type": "markdown",
   "metadata": {},
   "source": [
    "Let's test this function to see that it works. If we pass a negative value for $z$, the sigmoid function will be approximately zero, so it predicts class 0. If $y = 0$, congrats, we have almost zero error. If $y = 1$, we'll get punished."
   ]
  },
  {
   "cell_type": "code",
   "execution_count": 24,
   "metadata": {
    "deletable": false,
    "editable": false,
    "nbgrader": {
     "checksum": "89062b5cdfbcf4dba13ac0e4f80d59e4",
     "grade": true,
     "grade_id": "cell-78e4aee5f7010ec8",
     "locked": true,
     "points": 1,
     "schema_version": 1,
     "solution": false
    }
   },
   "outputs": [
    {
     "name": "stdout",
     "output_type": "stream",
     "text": [
      "4.53988992168e-05\n",
      "10.0000453989\n"
     ]
    }
   ],
   "source": [
    "print(get_error(-10, 0)) # Almost zero\n",
    "print(get_error(-10, 1)) # Very large (approximately equal to 10)"
   ]
  },
  {
   "cell_type": "markdown",
   "metadata": {},
   "source": [
    "### 6. Calculate the Cost Function from the Error Function (1 point)\n",
    "Now, we have an error function which accepts a real number $z$ and an expected class and returns the prediction error. Now we have to repeat what we did in step 4 and rewrite the entire thing to use $x$, the input value.\n",
    "\n",
    "That's really simple. We should just take $x, y$, and the parameters $a, b$. All four parameters are real numbers. From them, we need to calculate $z = ax+b$. This $z$ is what we need to pass to `get_error(z, y)`.\n",
    "\n",
    "Write a function that does this."
   ]
  },
  {
   "cell_type": "code",
   "execution_count": 25,
   "metadata": {
    "deletable": false,
    "nbgrader": {
     "checksum": "4785d979c0b59107942400db95703c4d",
     "grade": false,
     "grade_id": "cell-7da0ed8e17557d5e",
     "locked": false,
     "schema_version": 1,
     "solution": true
    }
   },
   "outputs": [
    {
     "name": "stdout",
     "output_type": "stream",
     "text": [
      "0.00671534848912\n"
     ]
    }
   ],
   "source": [
    "def compute_error_function(a, b, x, y):\n",
    "    # YOUR CODE HERE\n",
    "    z=a*x+b\n",
    "    result=get_error(z,y)\n",
    "    return result\n",
    "#     raise NotImplementedError()\n",
    "    \n",
    "print(compute_error_function(-5, 0, 1, 0)) # Should be about 0.007"
   ]
  },
  {
   "cell_type": "markdown",
   "metadata": {},
   "source": [
    "The total cost function is the sum of all errors. Write a function that accepts `data_x` and `data_y` - arrays of points, and also `a` and `b`. For each point, compute the error function. Sum all error functions to get the total cost."
   ]
  },
  {
   "cell_type": "code",
   "execution_count": 26,
   "metadata": {
    "collapsed": true,
    "deletable": false,
    "nbgrader": {
     "checksum": "350e8521e233ebcc96caa3edce3efcf0",
     "grade": false,
     "grade_id": "cell-f6a7f0ad3bb7f5a8",
     "locked": false,
     "schema_version": 1,
     "solution": true
    }
   },
   "outputs": [],
   "source": [
    "def compute_total_cost(a, b, data_x, data_y):\n",
    "    # YOUR CODE HERE\n",
    "    sum_error=0\n",
    "    for item_x in data_x:\n",
    "        for item_y in data_y:\n",
    "            curr_error=compute_error_function(a, b, item_x, item_y)\n",
    "            sum_error=sum_error+curr_error\n",
    "    return sum_error\n",
    "#     raise NotImplementedError()"
   ]
  },
  {
   "cell_type": "markdown",
   "metadata": {},
   "source": [
    "Now let's go back and see what total costs we should get. We saw that the last function approximation looked most reasonable. It should have the smallest error."
   ]
  },
  {
   "cell_type": "code",
   "execution_count": 27,
   "metadata": {
    "deletable": false,
    "editable": false,
    "nbgrader": {
     "checksum": "f808a100908c88a00becb0ea81a7e02a",
     "grade": true,
     "grade_id": "cell-aefbf00d7ba63fa2",
     "locked": true,
     "points": 1,
     "schema_version": 1,
     "solution": false
    }
   },
   "outputs": [
    {
     "data": {
      "image/png": "[encoded data removed]",
      "text/plain": [
       "<matplotlib.figure.Figure at 0x2b5ee81d748>"
      ]
     },
     "metadata": {},
     "output_type": "display_data"
    },
    {
     "data": {
      "image/png": "[encoded data removed]",
      "text/plain": [
       "<matplotlib.figure.Figure at 0x2b5ee8dffd0>"
      ]
     },
     "metadata": {},
     "output_type": "display_data"
    },
    {
     "data": {
      "image/png": "[encoded data removed]",
      "text/plain": [
       "<matplotlib.figure.Figure at 0x2b5ee904550>"
      ]
     },
     "metadata": {},
     "output_type": "display_data"
    },
    {
     "data": {
      "image/png": "[encoded data removed]",
      "text/plain": [
       "<matplotlib.figure.Figure at 0x2b5ee9624e0>"
      ]
     },
     "metadata": {},
     "output_type": "display_data"
    }
   ],
   "source": [
    "for a, b in [[2, 5], [3, -6], [-5, 0.5], [1.5, -8]]:\n",
    "    total_cost = compute_total_cost(a, b, all_times, exam_result)\n",
    "    plot_prediction_with_sigmoid(a, b, all_times, exam_result, \"Total cost: \" + str(total_cost))\n",
    "    "
   ]
  },
  {
   "cell_type": "markdown",
   "metadata": {},
   "source": [
    "### 7. Perform gradient ascent (1 point)\n",
    "Now we've gone really far. What remains is to try to find the unknown coefficients $a$ and $b$.\n",
    "\n",
    "We're not going to cover the details of the derivation of the gradients. If you're interested how this works, you can look it up online. The method is fairly common in statistics and is called \"maximum likelihood estimation\", i.e. we try to estimate the parameters $a$ and $b$ so that the prediction $\\tilde{y}$ is as close as possible to the observed variable $y$.\n",
    "\n",
    "Here's an important detail, though. Because of how these calculations go, we need to **maximize**, not minimize the target function. The method is called **gradient ascent**. When we update the values, we add, not subtract, the new gradients.\n",
    "\n",
    "$$\n",
    "a = a + \\nabla J_a \\\\\n",
    "b = b + \\nabla J_b\n",
    "$$\n",
    "\n",
    "The implementation of `perform_gradient_ascent()` for logistic regression is given to you."
   ]
  },
  {
   "cell_type": "code",
   "execution_count": 28,
   "metadata": {
    "collapsed": true
   },
   "outputs": [],
   "source": [
    "def perform_gradient_ascent(a, b, data_x, data_y, learning_rate):\n",
    "    y_predicted = sigmoid(a * data_x + b)\n",
    "    errors = data_y - y_predicted\n",
    "    a_gradient = np.sum(data_x * errors)\n",
    "    b_gradient = np.sum(errors)\n",
    "    new_a = a + learning_rate * a_gradient\n",
    "    new_b = b + learning_rate * b_gradient\n",
    "    return new_a, new_b"
   ]
  },
  {
   "cell_type": "markdown",
   "metadata": {},
   "source": [
    "Use that to perform 3 000 iterations. Start from $a = 0, b = 0$. At each iteration, update $a$ and $b$. Print the final values at the end. Use `all_times` and `exam_result` as your variables. Use a learning rate $\\alpha = 0.01$.\n",
    "\n",
    "If you wish, you can call `compute_total_cost(a, b, data_x, data_y)` and even plot the learning curve. This will give you a good idea whether your model worked or not."
   ]
  },
  {
   "cell_type": "code",
   "execution_count": 29,
   "metadata": {
    "collapsed": true,
    "deletable": false,
    "nbgrader": {
     "checksum": "bf029cf1087c2b1cc96548feb87b9311",
     "grade": false,
     "grade_id": "cell-1486b3cbc3fe053c",
     "locked": false,
     "schema_version": 1,
     "solution": true
    }
   },
   "outputs": [],
   "source": [
    "# def calculate_loss(x,y,a,b):\n",
    "#     y_predicate = a*x + b\n",
    "#     distance = (y - y_predicate) ** 2\n",
    "#     return np.sum(distance) / len(x)\n",
    "\n",
    "\n",
    "def train_model(data_x, data_y):\n",
    "    model_a=0.0\n",
    "    model_b=0.0\n",
    "    alpha=0.01\n",
    "    for step in range(3001):\n",
    "        model_a, model_b = perform_gradient_ascent(model_a, model_b, data_x, data_y, alpha)\n",
    "#         if step%100==0:\n",
    "#             error=calculate_loss(data_x, data_y, model_a, model_b)\n",
    "#             print(error)\n",
    "#     print(model_a, model_b)\n",
    "    return model_a, model_b\n",
    "    # YOUR CODE HERE\n",
    "#     raise NotImplementedError()"
   ]
  },
  {
   "cell_type": "code",
   "execution_count": 30,
   "metadata": {},
   "outputs": [
    {
     "name": "stdout",
     "output_type": "stream",
     "text": [
      "a = 0.9391189871712119; b = -5.568388798795233\n"
     ]
    }
   ],
   "source": [
    "a, b = train_model(all_times, exam_result)\n",
    "print(\"a = {}; b = {}\".format(a, b))"
   ]
  },
  {
   "cell_type": "code",
   "execution_count": 31,
   "metadata": {
    "collapsed": true,
    "deletable": false,
    "editable": false,
    "nbgrader": {
     "checksum": "e9ea50d469d2f1288a8152045cd0a205",
     "grade": true,
     "grade_id": "cell-9cd155d1d279863a",
     "locked": true,
     "points": 1,
     "schema_version": 1,
     "solution": false
    }
   },
   "outputs": [],
   "source": [
    "assert_is_not_none(a)\n",
    "assert_is_not_none(b)"
   ]
  },
  {
   "cell_type": "markdown",
   "metadata": {},
   "source": [
    "We can compare our implementation to something else. An algorithm that we know works for sure, is the `scikit-learn` implementation.\n",
    "\n",
    "The next cell performs logistic regression using `scikit-learn`. You should observe that the parameters are almost the same as those we got. This means that our implementation works well.\n",
    "\n",
    "The `C` parameter is related to something we haven't discussed called **regularization**. A large number means no regularization is applied, which is what we did. A more detailed discussion is out of the scope of this lab."
   ]
  },
  {
   "cell_type": "code",
   "execution_count": 32,
   "metadata": {},
   "outputs": [
    {
     "name": "stdout",
     "output_type": "stream",
     "text": [
      "a = 0.9404412084622912; b = -5.576708242006671\n"
     ]
    }
   ],
   "source": [
    "model = LogisticRegression(C = 1e9)\n",
    "model.fit(all_times.reshape(-1, 1), exam_result)\n",
    "print(\"a = {}; b = {}\".format(model.coef_[0, 0], model.intercept_[0]))"
   ]
  },
  {
   "cell_type": "markdown",
   "metadata": {},
   "source": [
    "### 8. Test your model (1 point)\n",
    "Let's create a `predict()` function. It should accept `a` and `b`, and the training data (`all_times` in our case). Its job is to predict the output class. To do this, it should use the already defined `generate_output()` function. To make things easier, this function is provided for you."
   ]
  },
  {
   "cell_type": "code",
   "execution_count": 33,
   "metadata": {
    "collapsed": true
   },
   "outputs": [],
   "source": [
    "def predict(a, b, x_data):\n",
    "    return generate_output(a * x_data + b)"
   ]
  },
  {
   "cell_type": "markdown",
   "metadata": {},
   "source": [
    "Let's now call `predict()` for every input value and compare our outputs to the original ones."
   ]
  },
  {
   "cell_type": "code",
   "execution_count": 34,
   "metadata": {},
   "outputs": [
    {
     "name": "stdout",
     "output_type": "stream",
     "text": [
      "Predicted: [0 1 1 1 0 0 0 1 1 1 0 1 1 0 0 0 0 0 0 0]\n",
      "Actual:    [ 1.  1.  1.  0.  0.  0.  0.  1.  0.  1.  0.  1.  1.  0.  0.  0.  0.  0.\n",
      "  1.  0.]\n"
     ]
    }
   ],
   "source": [
    "exam_result_predicted = np.array([predict(a, b, time) for time in all_times])\n",
    "print(\"Predicted:\", exam_result_predicted)\n",
    "print(\"Actual:   \", exam_result)"
   ]
  },
  {
   "cell_type": "markdown",
   "metadata": {},
   "source": [
    "A metric for how good our classification is, is called **accuracy**. It's the ratio of guessed classes to all classes.\n",
    "\n",
    "$$A = \\frac{\\text{number of correct guesses}}{\\text{number of total results}}$$\n",
    "\n",
    "Write a function called `calculate_accuracy` which accepts the predicted exam results and the actual exam results and returns the accuracy score."
   ]
  },
  {
   "cell_type": "code",
   "execution_count": 35,
   "metadata": {
    "collapsed": true,
    "deletable": false,
    "nbgrader": {
     "checksum": "99d83a7c543363fe521f1d88c8946c9f",
     "grade": false,
     "grade_id": "cell-321117662720ef67",
     "locked": false,
     "schema_version": 1,
     "solution": true
    }
   },
   "outputs": [],
   "source": [
    "# def calculate_accuracy(predicted, actual):\n",
    "#     # YOUR CODE HERE\n",
    "#     sum_predicted = 0\n",
    "#     sum_actual = 0 \n",
    "#     for item in predicted:\n",
    "#         sum_predicted = sum_predicted + item\n",
    "#     for item in actual:\n",
    "#         sum_actual = sum_actual + item\n",
    "    \n",
    "#     accuracy=sum_predicted/sum_actual\n",
    "#     return accuracy\n",
    "#     raise NotImplementedError()\n",
    "\n",
    "def calculate_accuracy(predicted, actual):\n",
    "    sum_match = 0\n",
    "    sum_not_match = 0\n",
    "    sum_all_elem = 0\n",
    "    for (item1, item2) in zip(exam_result_predicted, exam_result):\n",
    "        if item1==item2:\n",
    "            sum_match = sum_match+1\n",
    "        else:\n",
    "            sum_not_match = sum_not_match+1\n",
    "\n",
    "    sum_all_elem = sum_match + sum_not_match\n",
    "    result = sum_match/sum_all_elem\n",
    "    return result\n",
    "    \n",
    "    \n",
    "    \n",
    "    \n",
    "# sum_match = 0\n",
    "# sum_not_match = 0\n",
    "# sum_all_elem = 0\n",
    "# for (item1, item2) in zip(exam_result_predicted, exam_result):\n",
    "#     if item1==item2:\n",
    "#         sum_match = sum_match+1\n",
    "#     else:\n",
    "#         sum_not_match = sum_not_match+1\n",
    "\n",
    "# sum_all_elem = sum_match + sum_not_match\n",
    "# result = sum_match/sum_all_elem\n",
    "# result"
   ]
  },
  {
   "cell_type": "code",
   "execution_count": 36,
   "metadata": {
    "deletable": false,
    "editable": false,
    "nbgrader": {
     "checksum": "62034ce5d5171f3e19f1ea3af2b973a5",
     "grade": true,
     "grade_id": "cell-5cdae793298156a5",
     "locked": true,
     "points": 1,
     "schema_version": 1,
     "solution": false
    }
   },
   "outputs": [
    {
     "name": "stdout",
     "output_type": "stream",
     "text": [
      "0.8\n"
     ]
    }
   ],
   "source": [
    "print(calculate_accuracy(exam_result_predicted, exam_result))"
   ]
  },
  {
   "cell_type": "markdown",
   "metadata": {},
   "source": [
    "Finally, if we want to play a little, we can plot correct and incorrect results. This is left as an exercise to the reader :).\n",
    "\n",
    "### Additional notes: OOP\n",
    "We're not looking at object-oriented programming in this course, but we can wrap everything we did in a class. I am including this just for fun. The class contains only vary basic input checks. A real-life scenario will include much more validation.\n",
    "\n",
    "Also, in this class, I'm calling the functions `train_model()`, `predict()`, and `calculate_accuracy()` directly because I know they're already written. A real class won't simply reuse them, they will be part of the class."
   ]
  },
  {
   "cell_type": "code",
   "execution_count": 37,
   "metadata": {},
   "outputs": [
    {
     "name": "stdout",
     "output_type": "stream",
     "text": [
      "a = 0.9391189871712119; b = -5.568388798795233\n",
      "Predicted: [0 1 1 1 0 0 0 1 1 1 0 1 1 0 0 0 0 0 0 0]\n",
      "Accuracy: 0.800\n"
     ]
    }
   ],
   "source": [
    "class OneVariableLogisticRegression(object):\n",
    "    def __init__(self):\n",
    "        self.is_trained = False\n",
    "        \n",
    "    def train(self, x, y):\n",
    "        assert_is_instance(x, np.ndarray)\n",
    "        assert_is_instance(y, np.ndarray)\n",
    "        assert_equal(x.ndim, 1)\n",
    "        assert_equal(y.ndim, 1)\n",
    "        \n",
    "        self.is_trained = True\n",
    "        self.a, self.b = train_model(x, y)\n",
    "    \n",
    "    def predict(self, x):\n",
    "        if not self.is_trained:\n",
    "            raise RuntimeError(\"The model is not trained\")\n",
    "        return np.vectorize(predict)(self.a, self.b, x)\n",
    "    \n",
    "    def score(self, y_predicted, y_actual):\n",
    "        return calculate_accuracy(y_predicted, y_actual)\n",
    "    \n",
    "# Usage\n",
    "model = OneVariableLogisticRegression()\n",
    "model.train(all_times, exam_result)\n",
    "print(\"a = {}; b = {}\".format(model.a, model.b))\n",
    "print(\"Predicted:\", model.predict(all_times))\n",
    "print(\"Accuracy: {0:.3f}\".format(model.score(model.predict(all_times), exam_result)))"
   ]
  },
  {
   "cell_type": "code",
   "execution_count": null,
   "metadata": {
    "collapsed": true
   },
   "outputs": [],
   "source": []
  }
 ],
 "metadata": {
  "kernelspec": {
   "display_name": "Python 3",
   "language": "python",
   "name": "python3"
  },
  "language_info": {
   "codemirror_mode": {
    "name": "ipython",
    "version": 3
   },
   "file_extension": ".py",
   "mimetype": "text/x-python",
   "name": "python",
   "nbconvert_exporter": "python",
   "pygments_lexer": "ipython3",
   "version": "3.6.3"
  }
 },
 "nbformat": 4,
 "nbformat_minor": 2
}
